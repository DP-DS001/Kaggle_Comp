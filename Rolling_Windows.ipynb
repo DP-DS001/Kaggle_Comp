{
 "cells": [
  {
   "cell_type": "code",
   "execution_count": null,
   "metadata": {},
   "outputs": [],
   "source": [
    "import pandas as pd\n",
    "import numpy as np\n",
    "import math\n",
    "import matplotlib.pyplot as plt\n",
    "import seaborn as sns\n",
    "\n",
    "from sklearn.linear_model import LogisticRegression, Ridge, SGDRegressor\n",
    "from sklearn.neural_network import MLPClassifier\n",
    "from sklearn.model_selection import GridSearchCV, KFold, train_test_split\n",
    "from sklearn.utils import shuffle\n",
    "from sklearn import preprocessing\n",
    "from sklearn.preprocessing import StandardScaler\n",
    "from sklearn.metrics import confusion_matrix, f1_score, mean_absolute_error, make_scorer"
   ]
  },
  {
   "cell_type": "code",
   "execution_count": null,
   "metadata": {},
   "outputs": [],
   "source": [
    "train_df = pd.read_csv('data/train.csv')\n",
    "test = pd.read_csv('data/test.csv')"
   ]
  },
  {
   "cell_type": "code",
   "execution_count": null,
   "metadata": {},
   "outputs": [],
   "source": [
    "%%time\n",
    "window_sizes = [10, 25, 50, 100]\n",
    "\n",
    "for window in window_sizes:\n",
    "    train_df[\"rolling_mean_\" + str(window)] = train_df['signal'].rolling(window=window).mean()\n",
    "    train_df[\"rolling_std_\" + str(window)] = train_df['signal'].rolling(window=window).std()\n",
    "    train_df[\"rolling_var_\" + str(window)] = train_df['signal'].rolling(window=window).var()\n",
    "    train_df[\"rolling_min_\" + str(window)] = train_df['signal'].rolling(window=window).min()\n",
    "    train_df[\"rolling_max_\" + str(window)] = train_df['signal'].rolling(window=window).max()\n",
    "    \n",
    "    train_df[\"rolling_min_max_ratio_\" + str(window)] = train_df[\"rolling_min_\" + str(window)] / train_df[\"rolling_max_\" + str(window)]\n",
    "    train_df[\"rolling_min_max_diff_\" + str(window)] = train_df[\"rolling_max_\" + str(window)] - train_df[\"rolling_min_\" + str(window)]\n",
    "    \n",
    "    a = (train_df['signal'] - train_df['rolling_min_' + str(window)]) / (train_df['rolling_max_' + str(window)] - train_df['rolling_min_' + str(window)])\n",
    "    train_df[\"norm_\" + str(window)] = a * (np.floor(train_df['rolling_max_' + str(window)]) - np.ceil(train_df['rolling_min_' + str(window)]))\n",
    "    \n",
    "train_df = train_df.replace([np.inf, -np.inf], np.nan)    \n",
    "train_df.fillna(0, inplace=True)\n",
    "\n",
    "train_y = train_df['open_channels']\n",
    "train_x = train_df.drop(columns=['time', 'open_channels'])\n",
    "\n",
    "del train_df"
   ]
  },
  {
   "cell_type": "code",
   "execution_count": null,
   "metadata": {},
   "outputs": [],
   "source": [
    "train_y = kagg_train['open_channels']\n",
    "train_x = kagg_train.drop(columns=['time', 'open_channels'])"
   ]
  },
  {
   "cell_type": "code",
   "execution_count": null,
   "metadata": {},
   "outputs": [],
   "source": [
    "scaler = StandardScaler()\n",
    "scaler.fit(train_x)\n",
    "train_x_scaled = pd.DataFrame(scaler.transform(train_x), columns=train_x.columns)\n",
    "\n",
    "del train_x"
   ]
  },
  {
   "cell_type": "code",
   "execution_count": null,
   "metadata": {},
   "outputs": [],
   "source": [
    "for window in window_sizes:\n",
    "    test_df[\"rolling_mean_\" + str(window)] = test_df['signal'].rolling(window=window).mean()\n",
    "    test_df[\"rolling_std_\" + str(window)] = test_df['signal'].rolling(window=window).std()\n",
    "    test_df[\"rolling_var_\" + str(window)] = test_df['signal'].rolling(window=window).var()\n",
    "    test_df[\"rolling_min_\" + str(window)] = test_df['signal'].rolling(window=window).min()\n",
    "    test_df[\"rolling_max_\" + str(window)] = test_df['signal'].rolling(window=window).max()\n",
    "    \n",
    "    test_df[\"rolling_min_max_ratio_\" + str(window)] = test_df[\"rolling_min_\" + str(window)] / test_df[\"rolling_max_\" + str(window)]\n",
    "    test_df[\"rolling_min_max_diff_\" + str(window)] = test_df[\"rolling_max_\" + str(window)] - test_df[\"rolling_min_\" + str(window)]\n",
    "\n",
    "    \n",
    "    a = (test_df['signal'] - test_df['rolling_min_' + str(window)]) / (test_df['rolling_max_' + str(window)] - test_df['rolling_min_' + str(window)])\n",
    "    test_df[\"norm_\" + str(window)] = a * (np.floor(test_df['rolling_max_' + str(window)]) - np.ceil(test_df['rolling_min_' + str(window)]))\n",
    "    \n",
    "test_df = test_df.replace([np.inf, -np.inf], np.nan)    \n",
    "test_df.fillna(0, inplace=True)"
   ]
  },
  {
   "cell_type": "code",
   "execution_count": null,
   "metadata": {},
   "outputs": [],
   "source": [
    "test_x_scaled = pd.DataFrame(scaler.transform(test_df), columns=test_df.columns)"
   ]
  },
  {
   "cell_type": "code",
   "execution_count": null,
   "metadata": {},
   "outputs": [],
   "source": [
    "n_fold = 5\n",
    "folds = KFold(n_splits=n_fold, shuffle=True, random_state=42)\n",
    "\n",
    "params = {'num_leaves': 128,\n",
    "          'min_data_in_leaf': 64,\n",
    "          'objective': 'huber',\n",
    "          'max_depth': -1,\n",
    "          'learning_rate': 0.005,\n",
    "          \"boosting\": \"gbdt\",\n",
    "          \"bagging_freq\": 5,\n",
    "          \"bagging_fraction\": 0.8,\n",
    "          \"bagging_seed\": 11,\n",
    "          \"metric\": 'mae',\n",
    "          \"verbosity\": -1,\n",
    "          'reg_alpha': 0.1,\n",
    "          'reg_lambda': 0.3\n",
    "         }"
   ]
  },
  {
   "cell_type": "code",
   "execution_count": null,
   "metadata": {},
   "outputs": [],
   "source": [
    "oof = np.zeros(len(train_x_scaled))\n",
    "prediction = np.zeros(len(test_x_scaled))\n",
    "scores = []\n",
    "\n",
    "for fold_n, (train_index, valid_index) in enumerate(folds.split(train_x_scaled)):\n",
    "    print('Fold', fold_n, 'started at', time.ctime())\n",
    "    X_train, X_valid = train_x_scaled.iloc[train_index], train_x_scaled.iloc[valid_index]\n",
    "    y_train, y_valid = train_y.iloc[train_index], train_y.iloc[valid_index]\n",
    "    \n",
    "    model = lgb.LGBMRegressor(**params, n_estimators = 5000, n_jobs = -1)\n",
    "    model.fit(X_train, y_train, \n",
    "            eval_set=[(X_train, y_train), (X_valid, y_valid)], eval_metric='mae',\n",
    "            verbose=500, early_stopping_rounds=200)\n",
    "\n",
    "    y_pred_valid = model.predict(X_valid)\n",
    "    y_pred = model.predict(test_x_scaled, num_iteration=model.best_iteration_)\n",
    "    \n",
    "    oof[valid_index] = y_pred_valid.reshape(-1,)\n",
    "    scores.append(mean_absolute_error(y_valid, y_pred_valid))\n",
    "\n",
    "    prediction += y_pred\n",
    "\n",
    "prediction /= n_fold"
   ]
  },
  {
   "cell_type": "code",
   "execution_count": null,
   "metadata": {},
   "outputs": [],
   "source": [
    "sub = pd.read_csv(\"data/sample_submission.csv\", dtype={'time':str})\n",
    "\n",
    "sub['open_channels'] = np.round(prediction).astype(np.int)\n",
    "sub.to_csv(\"submission.csv\", index=False, float_format='%.4f')"
   ]
  }
 ],
 "metadata": {
  "kernelspec": {
   "display_name": "Python 3",
   "language": "python",
   "name": "python3"
  },
  "language_info": {
   "codemirror_mode": {
    "name": "ipython",
    "version": 3
   },
   "file_extension": ".py",
   "mimetype": "text/x-python",
   "name": "python",
   "nbconvert_exporter": "python",
   "pygments_lexer": "ipython3",
   "version": "3.7.3"
  }
 },
 "nbformat": 4,
 "nbformat_minor": 2
}
